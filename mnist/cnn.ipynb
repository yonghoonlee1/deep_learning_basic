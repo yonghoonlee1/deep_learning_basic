{
 "cells": [
  {
   "cell_type": "code",
   "execution_count": 2,
   "metadata": {},
   "outputs": [],
   "source": [
    "import torch\n",
    "from torch import nn\n",
    "from torch.utils.data import DataLoader\n",
    "from torchvision import datasets\n",
    "from torchvision.transforms import Lambda, Compose, ToTensor\n",
    "import numpy as np\n",
    "import matplotlib.pyplot as plt\n",
    "from PIL import Image"
   ]
  },
  {
   "cell_type": "code",
   "execution_count": 3,
   "metadata": {},
   "outputs": [],
   "source": [
    "train_dataset = datasets.MNIST(\n",
    "    root = 'data',\n",
    "    train = True,\n",
    "    download = True,\n",
    "    transform = ToTensor()\n",
    ")\n",
    "\n",
    "test_dataset = datasets.MNIST(\n",
    "    root = 'data',\n",
    "    train = False,\n",
    "    download = True,\n",
    "    transform = ToTensor()\n",
    ")"
   ]
  },
  {
   "cell_type": "code",
   "execution_count": 4,
   "metadata": {},
   "outputs": [],
   "source": [
    "batch_size = 64\n",
    "\n",
    "train_dataloader = DataLoader(train_dataset, batch_size = batch_size)\n",
    "test_dataloader = DataLoader(test_dataset, batch_size = batch_size)"
   ]
  },
  {
   "cell_type": "code",
   "execution_count": 5,
   "metadata": {},
   "outputs": [
    {
     "name": "stdout",
     "output_type": "stream",
     "text": [
      "torch.Size([64, 1, 28, 28])\n",
      "torch.Size([64])\n"
     ]
    }
   ],
   "source": [
    "for X, y in test_dataloader:\n",
    "    print(X.shape)\n",
    "    print(y.shape)\n",
    "    break"
   ]
  },
  {
   "cell_type": "code",
   "execution_count": 6,
   "metadata": {},
   "outputs": [
    {
     "name": "stdout",
     "output_type": "stream",
     "text": [
      "Using cpu device\n",
      "CNN(\n",
      "  (layer): Sequential(\n",
      "    (0): Conv2d(1, 16, kernel_size=(5, 5), stride=(1, 1))\n",
      "    (1): ReLU()\n",
      "    (2): Conv2d(16, 32, kernel_size=(5, 5), stride=(1, 1))\n",
      "    (3): ReLU()\n",
      "    (4): MaxPool2d(kernel_size=2, stride=2, padding=0, dilation=1, ceil_mode=False)\n",
      "    (5): Conv2d(32, 64, kernel_size=(5, 5), stride=(1, 1))\n",
      "    (6): ReLU()\n",
      "    (7): MaxPool2d(kernel_size=2, stride=2, padding=0, dilation=1, ceil_mode=False)\n",
      "  )\n",
      "  (fc_layer): Sequential(\n",
      "    (0): Linear(in_features=576, out_features=100, bias=True)\n",
      "    (1): ReLU()\n",
      "    (2): Linear(in_features=100, out_features=10, bias=True)\n",
      "  )\n",
      ")\n"
     ]
    }
   ],
   "source": [
    "device = \"cuda\" if torch.cuda.is_available() else \"cpu\"\n",
    "print(\"Using {} device\".format(device))\n",
    "\n",
    "class CNN(nn.Module):\n",
    "    def __init__(self):\n",
    "        super(CNN, self).__init__()\n",
    "        \n",
    "        self.layer = nn.Sequential(\n",
    "            nn.Conv2d(1, 16, 5),    # (28-5+1=24) → 16×24×24\n",
    "            nn.ReLU(),\n",
    "            nn.Conv2d(16, 32, 5),   # (24-5+1=20) → 32×20×20\n",
    "            nn.ReLU(),\n",
    "            nn.MaxPool2d(2, 2),     # → 32×10×10\n",
    "            nn.Conv2d(32, 64, 5),   # (10-5+1=6) → 64×6×6\n",
    "            nn.ReLU(),\n",
    "            nn.MaxPool2d(2, 2)      # → 64×3×3\n",
    "        )\n",
    "        \n",
    "        self.fc_layer = nn.Sequential(\n",
    "            nn.Linear(64 * 3 * 3, 100),\n",
    "            nn.ReLU(),\n",
    "            nn.Linear(100, 10)\n",
    "        )\n",
    "        \n",
    "    def forward(self, x):\n",
    "        out = self.layer(x)\n",
    "        out = out.view(out.size(0), -1)   # Flatten\n",
    "        out = self.fc_layer(out)\n",
    "        return out\n",
    "\n",
    "model = CNN().to(device)\n",
    "print(model)"
   ]
  },
  {
   "cell_type": "code",
   "execution_count": 7,
   "metadata": {},
   "outputs": [],
   "source": [
    "loss_fn = nn.CrossEntropyLoss()\n",
    "optimizer = torch.optim.Adam(model.parameters(), lr=1e-3)"
   ]
  },
  {
   "cell_type": "code",
   "execution_count": 8,
   "metadata": {},
   "outputs": [],
   "source": [
    "def train(dataloader, model, loss_fn, optimizer):\n",
    "    size = len(dataloader.dataset)\n",
    "    for batch, (X, y) in enumerate(dataloader):\n",
    "        X, y = X.to(device), y.to(device)\n",
    "\n",
    "        pred = model(X)\n",
    "        loss = loss_fn(pred, y)\n",
    "\n",
    "        optimizer.zero_grad()\n",
    "        loss.backward()\n",
    "        optimizer.step()\n",
    "\n",
    "        if batch % 100 == 0:\n",
    "            loss, current = loss.item(), batch * len(X)\n",
    "            print(f\"loss: {loss:>7f}  [{current:>5d}/{size:>5d}]\")"
   ]
  },
  {
   "cell_type": "code",
   "execution_count": 9,
   "metadata": {},
   "outputs": [],
   "source": [
    "def test(dataloader, model, loss_fn):\n",
    "    size = len(dataloader.dataset)\n",
    "    num_batches = len(dataloader)\n",
    "    model.eval()\n",
    "    test_loss, correct = 0, 0\n",
    "    with torch.no_grad():\n",
    "        for X, y in dataloader:\n",
    "            X, y = X.to(device), y.to(device)\n",
    "            pred = model(X)\n",
    "            test_loss += loss_fn(pred, y).item()\n",
    "            correct += (pred.argmax(1) == y).type(torch.float).sum().item()\n",
    "    test_loss /= num_batches\n",
    "    correct /= size\n",
    "    print(f\"Test Error: \\n Accuracy: {(100*correct):>0.1f}%, Avg loss: {test_loss:>8f} \\n\")"
   ]
  },
  {
   "cell_type": "code",
   "execution_count": 10,
   "metadata": {},
   "outputs": [
    {
     "name": "stdout",
     "output_type": "stream",
     "text": [
      "Epoch 1\n",
      "-------------------------------\n",
      "loss: 2.292424  [    0/60000]\n",
      "loss: 0.115768  [ 6400/60000]\n",
      "loss: 0.139793  [12800/60000]\n",
      "loss: 0.150501  [19200/60000]\n",
      "loss: 0.075931  [25600/60000]\n",
      "loss: 0.031603  [32000/60000]\n",
      "loss: 0.105755  [38400/60000]\n",
      "loss: 0.068661  [44800/60000]\n",
      "loss: 0.205153  [51200/60000]\n",
      "loss: 0.114087  [57600/60000]\n",
      "Test Error: \n",
      " Accuracy: 97.7%, Avg loss: 0.073011 \n",
      "\n",
      "Epoch 2\n",
      "-------------------------------\n",
      "loss: 0.054993  [    0/60000]\n",
      "loss: 0.097007  [ 6400/60000]\n",
      "loss: 0.028577  [12800/60000]\n",
      "loss: 0.047216  [19200/60000]\n",
      "loss: 0.010036  [25600/60000]\n",
      "loss: 0.064915  [32000/60000]\n",
      "loss: 0.051799  [38400/60000]\n",
      "loss: 0.024719  [44800/60000]\n",
      "loss: 0.134596  [51200/60000]\n",
      "loss: 0.059856  [57600/60000]\n",
      "Test Error: \n",
      " Accuracy: 98.9%, Avg loss: 0.035413 \n",
      "\n",
      "Epoch 3\n",
      "-------------------------------\n",
      "loss: 0.003843  [    0/60000]\n",
      "loss: 0.072478  [ 6400/60000]\n",
      "loss: 0.041043  [12800/60000]\n",
      "loss: 0.002477  [19200/60000]\n",
      "loss: 0.004299  [25600/60000]\n",
      "loss: 0.037234  [32000/60000]\n",
      "loss: 0.033256  [38400/60000]\n",
      "loss: 0.017167  [44800/60000]\n",
      "loss: 0.129025  [51200/60000]\n",
      "loss: 0.030481  [57600/60000]\n",
      "Test Error: \n",
      " Accuracy: 99.0%, Avg loss: 0.032245 \n",
      "\n",
      "Epoch 4\n",
      "-------------------------------\n",
      "loss: 0.003337  [    0/60000]\n",
      "loss: 0.028085  [ 6400/60000]\n",
      "loss: 0.064507  [12800/60000]\n",
      "loss: 0.004786  [19200/60000]\n",
      "loss: 0.018541  [25600/60000]\n",
      "loss: 0.011143  [32000/60000]\n",
      "loss: 0.030251  [38400/60000]\n",
      "loss: 0.010005  [44800/60000]\n",
      "loss: 0.144048  [51200/60000]\n",
      "loss: 0.020765  [57600/60000]\n",
      "Test Error: \n",
      " Accuracy: 99.2%, Avg loss: 0.028653 \n",
      "\n",
      "Epoch 5\n",
      "-------------------------------\n",
      "loss: 0.000326  [    0/60000]\n",
      "loss: 0.065040  [ 6400/60000]\n",
      "loss: 0.021350  [12800/60000]\n",
      "loss: 0.088043  [19200/60000]\n",
      "loss: 0.000564  [25600/60000]\n",
      "loss: 0.009366  [32000/60000]\n",
      "loss: 0.004300  [38400/60000]\n",
      "loss: 0.009712  [44800/60000]\n",
      "loss: 0.033797  [51200/60000]\n",
      "loss: 0.056992  [57600/60000]\n",
      "Test Error: \n",
      " Accuracy: 99.2%, Avg loss: 0.027269 \n",
      "\n",
      "Epoch 6\n",
      "-------------------------------\n",
      "loss: 0.000480  [    0/60000]\n",
      "loss: 0.001938  [ 6400/60000]\n",
      "loss: 0.027942  [12800/60000]\n",
      "loss: 0.135796  [19200/60000]\n",
      "loss: 0.004887  [25600/60000]\n",
      "loss: 0.003027  [32000/60000]\n",
      "loss: 0.039279  [38400/60000]\n",
      "loss: 0.039540  [44800/60000]\n",
      "loss: 0.108917  [51200/60000]\n",
      "loss: 0.002529  [57600/60000]\n",
      "Test Error: \n",
      " Accuracy: 99.2%, Avg loss: 0.031584 \n",
      "\n",
      "Epoch 7\n",
      "-------------------------------\n",
      "loss: 0.000886  [    0/60000]\n",
      "loss: 0.003567  [ 6400/60000]\n",
      "loss: 0.035829  [12800/60000]\n",
      "loss: 0.170631  [19200/60000]\n",
      "loss: 0.002201  [25600/60000]\n",
      "loss: 0.017790  [32000/60000]\n",
      "loss: 0.004437  [38400/60000]\n",
      "loss: 0.002422  [44800/60000]\n",
      "loss: 0.126634  [51200/60000]\n",
      "loss: 0.007723  [57600/60000]\n",
      "Test Error: \n",
      " Accuracy: 99.0%, Avg loss: 0.035007 \n",
      "\n",
      "Epoch 8\n",
      "-------------------------------\n",
      "loss: 0.001439  [    0/60000]\n",
      "loss: 0.021646  [ 6400/60000]\n",
      "loss: 0.032727  [12800/60000]\n",
      "loss: 0.000932  [19200/60000]\n",
      "loss: 0.003780  [25600/60000]\n",
      "loss: 0.000475  [32000/60000]\n",
      "loss: 0.012365  [38400/60000]\n",
      "loss: 0.020976  [44800/60000]\n",
      "loss: 0.000272  [51200/60000]\n",
      "loss: 0.019314  [57600/60000]\n",
      "Test Error: \n",
      " Accuracy: 98.8%, Avg loss: 0.045502 \n",
      "\n",
      "Epoch 9\n",
      "-------------------------------\n",
      "loss: 0.001211  [    0/60000]\n",
      "loss: 0.004282  [ 6400/60000]\n",
      "loss: 0.098416  [12800/60000]\n",
      "loss: 0.025183  [19200/60000]\n",
      "loss: 0.000057  [25600/60000]\n",
      "loss: 0.017067  [32000/60000]\n",
      "loss: 0.001451  [38400/60000]\n",
      "loss: 0.000164  [44800/60000]\n",
      "loss: 0.015007  [51200/60000]\n",
      "loss: 0.007532  [57600/60000]\n",
      "Test Error: \n",
      " Accuracy: 99.1%, Avg loss: 0.039456 \n",
      "\n",
      "Epoch 10\n",
      "-------------------------------\n",
      "loss: 0.000774  [    0/60000]\n",
      "loss: 0.013193  [ 6400/60000]\n",
      "loss: 0.003262  [12800/60000]\n",
      "loss: 0.053400  [19200/60000]\n",
      "loss: 0.011937  [25600/60000]\n",
      "loss: 0.000538  [32000/60000]\n",
      "loss: 0.000388  [38400/60000]\n",
      "loss: 0.000995  [44800/60000]\n",
      "loss: 0.158777  [51200/60000]\n",
      "loss: 0.002809  [57600/60000]\n",
      "Test Error: \n",
      " Accuracy: 99.0%, Avg loss: 0.040272 \n",
      "\n",
      "Done!\n"
     ]
    }
   ],
   "source": [
    "epochs = 10\n",
    "for t in range(epochs):\n",
    "    print(f\"Epoch {t+1}\\n-------------------------------\")\n",
    "    train(train_dataloader, model, loss_fn, optimizer)\n",
    "    test(test_dataloader, model, loss_fn)\n",
    "print(\"Done!\")"
   ]
  },
  {
   "cell_type": "code",
   "execution_count": 11,
   "metadata": {},
   "outputs": [
    {
     "data": {
      "image/png": "[encoded data removed]",
      "text/plain": [
       "<Figure size 640x480 with 1 Axes>"
      ]
     },
     "metadata": {},
     "output_type": "display_data"
    }
   ],
   "source": [
    "img_path = './image.png'\n",
    "cur_img = Image.open(img_path)\n",
    "cur_img = cur_img.resize((28, 28))\n",
    "image = np.asarray(cur_img)\n",
    "\n",
    "try:\n",
    "  image = np.mean(image, axis=2)\n",
    "except:\n",
    "  pass\n",
    "\n",
    "image = np.abs(255-image)\n",
    "image = image.astype(np.float32)/255.\n",
    "\n",
    "plt.imshow(image, cmap='gray')\n",
    "plt.show()"
   ]
  },
  {
   "cell_type": "code",
   "execution_count": 12,
   "metadata": {},
   "outputs": [
    {
     "name": "stdout",
     "output_type": "stream",
     "text": [
      "예측 값은 3 입니다.\n"
     ]
    }
   ],
   "source": [
    "image = torch.as_tensor(image).to(device).reshape(1,1,28,28)\n",
    "model.eval()\n",
    "predict = model(image)\n",
    "print(\"예측 값은 {} 입니다.\".format(predict.argmax(1).item()))"
   ]
  },
  {
   "cell_type": "code",
   "execution_count": null,
   "metadata": {},
   "outputs": [],
   "source": []
  }
 ],
 "metadata": {
  "kernelspec": {
   "display_name": "pytorch",
   "language": "python",
   "name": "python3"
  },
  "language_info": {
   "codemirror_mode": {
    "name": "ipython",
    "version": 3
   },
   "file_extension": ".py",
   "mimetype": "text/x-python",
   "name": "python",
   "nbconvert_exporter": "python",
   "pygments_lexer": "ipython3",
   "version": "3.10.18"
  },
  "orig_nbformat": 4,
  "vscode": {
   "interpreter": {
    "hash": "f5b916051ec391ef3c1c0123575e59cad2c35863d294dd079abc5845c0e5babb"
   }
  }
 },
 "nbformat": 4,
 "nbformat_minor": 2
}
