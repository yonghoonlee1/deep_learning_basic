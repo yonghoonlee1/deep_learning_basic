{
 "cells": [
  {
   "cell_type": "code",
   "execution_count": 1,
   "metadata": {},
   "outputs": [],
   "source": [
    "import torch\n",
    "from torch import nn\n",
    "from torch.utils.data import DataLoader\n",
    "from torchvision import datasets\n",
    "from torchvision.transforms import Lambda, Compose, ToTensor\n",
    "import numpy as np\n",
    "import matplotlib.pyplot as plt\n",
    "from PIL import Image"
   ]
  },
  {
   "cell_type": "code",
   "execution_count": 2,
   "metadata": {},
   "outputs": [],
   "source": [
    "train_dataset = datasets.MNIST(\n",
    "    root = 'data',\n",
    "    train = True,\n",
    "    download = True,\n",
    "    transform = ToTensor()\n",
    ")\n",
    "\n",
    "test_dataset = datasets.MNIST(\n",
    "    root = 'data',\n",
    "    train = False,\n",
    "    download = True,\n",
    "    transform = ToTensor()\n",
    ")"
   ]
  },
  {
   "cell_type": "code",
   "execution_count": 3,
   "metadata": {},
   "outputs": [],
   "source": [
    "batch_size = 64\n",
    "\n",
    "train_dataloader = DataLoader(train_dataset, batch_size = batch_size)\n",
    "test_dataloader = DataLoader(test_dataset, batch_size = batch_size)"
   ]
  },
  {
   "cell_type": "code",
   "execution_count": 4,
   "metadata": {},
   "outputs": [
    {
     "name": "stdout",
     "output_type": "stream",
     "text": [
      "torch.Size([64, 1, 28, 28])\n",
      "torch.Size([64])\n"
     ]
    }
   ],
   "source": [
    "for X, y in test_dataloader:\n",
    "    print(X.shape)\n",
    "    print(y.shape)\n",
    "    break"
   ]
  },
  {
   "cell_type": "code",
   "execution_count": 5,
   "metadata": {},
   "outputs": [
    {
     "name": "stdout",
     "output_type": "stream",
     "text": [
      "Using cpu device\n",
      "NeuralNetwork(\n",
      "  (flatten): Flatten(start_dim=1, end_dim=-1)\n",
      "  (linear_relu_stack): Sequential(\n",
      "    (0): Linear(in_features=784, out_features=128, bias=True)\n",
      "    (1): ReLU()\n",
      "    (2): Dropout(p=0.2, inplace=False)\n",
      "    (3): Linear(in_features=128, out_features=10, bias=True)\n",
      "  )\n",
      ")\n"
     ]
    }
   ],
   "source": [
    "device = \"cuda\" if torch.cuda.is_available() else \"cpu\"\n",
    "print(\"Using {} device\".format(device))\n",
    "\n",
    "class NeuralNetwork(nn.Module):\n",
    "    def __init__(self):\n",
    "        super(NeuralNetwork, self).__init__()\n",
    "        self.flatten = nn.Flatten()\n",
    "        self.linear_relu_stack = nn.Sequential(\n",
    "            nn.Linear(28*28, 128),\n",
    "            nn.ReLU(),\n",
    "            nn.Dropout(0.2),\n",
    "            nn.Linear(128, 10)\n",
    "        )\n",
    "\n",
    "    def forward(self, x):\n",
    "        x = self.flatten(x)\n",
    "        logits = self.linear_relu_stack(x)\n",
    "        return logits\n",
    "\n",
    "model = NeuralNetwork().to(device)\n",
    "print(model)"
   ]
  },
  {
   "cell_type": "code",
   "execution_count": 6,
   "metadata": {},
   "outputs": [],
   "source": [
    "loss_fn = nn.CrossEntropyLoss()\n",
    "optimizer = torch.optim.Adam(model.parameters(), lr=1e-3)"
   ]
  },
  {
   "cell_type": "code",
   "execution_count": 7,
   "metadata": {},
   "outputs": [],
   "source": [
    "def train(dataloader, model, loss_fn, optimizer):\n",
    "    size = len(dataloader.dataset)\n",
    "    for batch, (X, y) in enumerate(dataloader):\n",
    "        X, y = X.to(device), y.to(device)\n",
    "\n",
    "        pred = model(X)\n",
    "        loss = loss_fn(pred, y)\n",
    "\n",
    "        optimizer.zero_grad()\n",
    "        loss.backward()\n",
    "        optimizer.step()\n",
    "\n",
    "        if batch % 100 == 0:\n",
    "            loss, current = loss.item(), batch * len(X)\n",
    "            print(f\"loss: {loss:>7f}  [{current:>5d}/{size:>5d}]\")"
   ]
  },
  {
   "cell_type": "code",
   "execution_count": 8,
   "metadata": {},
   "outputs": [],
   "source": [
    "def test(dataloader, model, loss_fn):\n",
    "    size = len(dataloader.dataset)\n",
    "    num_batches = len(dataloader)\n",
    "    model.eval()\n",
    "    test_loss, correct = 0, 0\n",
    "    with torch.no_grad():\n",
    "        for X, y in dataloader:\n",
    "            X, y = X.to(device), y.to(device)\n",
    "            pred = model(X)\n",
    "            test_loss += loss_fn(pred, y).item()\n",
    "            correct += (pred.argmax(1) == y).type(torch.float).sum().item()\n",
    "    test_loss /= num_batches\n",
    "    correct /= size\n",
    "    print(f\"Test Error: \\n Accuracy: {(100*correct):>0.1f}%, Avg loss: {test_loss:>8f} \\n\")"
   ]
  },
  {
   "cell_type": "code",
   "execution_count": 9,
   "metadata": {},
   "outputs": [
    {
     "name": "stdout",
     "output_type": "stream",
     "text": [
      "Epoch 1\n",
      "-------------------------------\n",
      "loss: 2.304395  [    0/60000]\n",
      "loss: 0.435988  [ 6400/60000]\n",
      "loss: 0.311134  [12800/60000]\n",
      "loss: 0.401676  [19200/60000]\n",
      "loss: 0.268300  [25600/60000]\n",
      "loss: 0.355015  [32000/60000]\n",
      "loss: 0.155922  [38400/60000]\n",
      "loss: 0.351909  [44800/60000]\n",
      "loss: 0.246614  [51200/60000]\n",
      "loss: 0.315578  [57600/60000]\n",
      "Test Error: \n",
      " Accuracy: 94.1%, Avg loss: 0.194896 \n",
      "\n",
      "Epoch 2\n",
      "-------------------------------\n",
      "loss: 0.144558  [    0/60000]\n",
      "loss: 0.210511  [ 6400/60000]\n",
      "loss: 0.098453  [12800/60000]\n",
      "loss: 0.192759  [19200/60000]\n",
      "loss: 0.169149  [25600/60000]\n",
      "loss: 0.236599  [32000/60000]\n",
      "loss: 0.056281  [38400/60000]\n",
      "loss: 0.231036  [44800/60000]\n",
      "loss: 0.184047  [51200/60000]\n",
      "loss: 0.212984  [57600/60000]\n",
      "Test Error: \n",
      " Accuracy: 95.9%, Avg loss: 0.131807 \n",
      "\n",
      "Epoch 3\n",
      "-------------------------------\n",
      "loss: 0.096979  [    0/60000]\n",
      "loss: 0.146782  [ 6400/60000]\n",
      "loss: 0.067625  [12800/60000]\n",
      "loss: 0.102058  [19200/60000]\n",
      "loss: 0.116461  [25600/60000]\n",
      "loss: 0.162085  [32000/60000]\n",
      "loss: 0.036352  [38400/60000]\n",
      "loss: 0.173151  [44800/60000]\n",
      "loss: 0.136746  [51200/60000]\n",
      "loss: 0.170902  [57600/60000]\n",
      "Test Error: \n",
      " Accuracy: 96.5%, Avg loss: 0.107103 \n",
      "\n",
      "Epoch 4\n",
      "-------------------------------\n",
      "loss: 0.070876  [    0/60000]\n",
      "loss: 0.114214  [ 6400/60000]\n",
      "loss: 0.061227  [12800/60000]\n",
      "loss: 0.071972  [19200/60000]\n",
      "loss: 0.083741  [25600/60000]\n",
      "loss: 0.109769  [32000/60000]\n",
      "loss: 0.026542  [38400/60000]\n",
      "loss: 0.117610  [44800/60000]\n",
      "loss: 0.088846  [51200/60000]\n",
      "loss: 0.115893  [57600/60000]\n",
      "Test Error: \n",
      " Accuracy: 97.0%, Avg loss: 0.093593 \n",
      "\n",
      "Epoch 5\n",
      "-------------------------------\n",
      "loss: 0.048248  [    0/60000]\n",
      "loss: 0.082022  [ 6400/60000]\n",
      "loss: 0.057626  [12800/60000]\n",
      "loss: 0.060335  [19200/60000]\n",
      "loss: 0.071715  [25600/60000]\n",
      "loss: 0.091270  [32000/60000]\n",
      "loss: 0.017297  [38400/60000]\n",
      "loss: 0.087036  [44800/60000]\n",
      "loss: 0.065700  [51200/60000]\n",
      "loss: 0.068232  [57600/60000]\n",
      "Test Error: \n",
      " Accuracy: 97.2%, Avg loss: 0.087518 \n",
      "\n",
      "Epoch 6\n",
      "-------------------------------\n",
      "loss: 0.033692  [    0/60000]\n",
      "loss: 0.059854  [ 6400/60000]\n",
      "loss: 0.051544  [12800/60000]\n",
      "loss: 0.057130  [19200/60000]\n",
      "loss: 0.048234  [25600/60000]\n",
      "loss: 0.084126  [32000/60000]\n",
      "loss: 0.013523  [38400/60000]\n",
      "loss: 0.061928  [44800/60000]\n",
      "loss: 0.062620  [51200/60000]\n",
      "loss: 0.045709  [57600/60000]\n",
      "Test Error: \n",
      " Accuracy: 97.4%, Avg loss: 0.083142 \n",
      "\n",
      "Epoch 7\n",
      "-------------------------------\n",
      "loss: 0.025334  [    0/60000]\n",
      "loss: 0.039057  [ 6400/60000]\n",
      "loss: 0.049425  [12800/60000]\n",
      "loss: 0.039247  [19200/60000]\n",
      "loss: 0.038898  [25600/60000]\n",
      "loss: 0.075128  [32000/60000]\n",
      "loss: 0.010146  [38400/60000]\n",
      "loss: 0.044016  [44800/60000]\n",
      "loss: 0.065310  [51200/60000]\n",
      "loss: 0.033142  [57600/60000]\n",
      "Test Error: \n",
      " Accuracy: 97.4%, Avg loss: 0.080973 \n",
      "\n",
      "Epoch 8\n",
      "-------------------------------\n",
      "loss: 0.022642  [    0/60000]\n",
      "loss: 0.024912  [ 6400/60000]\n",
      "loss: 0.041341  [12800/60000]\n",
      "loss: 0.030118  [19200/60000]\n",
      "loss: 0.026618  [25600/60000]\n",
      "loss: 0.061516  [32000/60000]\n",
      "loss: 0.007576  [38400/60000]\n",
      "loss: 0.029590  [44800/60000]\n",
      "loss: 0.060515  [51200/60000]\n",
      "loss: 0.025222  [57600/60000]\n",
      "Test Error: \n",
      " Accuracy: 97.4%, Avg loss: 0.085175 \n",
      "\n",
      "Epoch 9\n",
      "-------------------------------\n",
      "loss: 0.019019  [    0/60000]\n",
      "loss: 0.017382  [ 6400/60000]\n",
      "loss: 0.033981  [12800/60000]\n",
      "loss: 0.020263  [19200/60000]\n",
      "loss: 0.017142  [25600/60000]\n",
      "loss: 0.054396  [32000/60000]\n",
      "loss: 0.005903  [38400/60000]\n",
      "loss: 0.018635  [44800/60000]\n",
      "loss: 0.041481  [51200/60000]\n",
      "loss: 0.021043  [57600/60000]\n",
      "Test Error: \n",
      " Accuracy: 97.5%, Avg loss: 0.085083 \n",
      "\n",
      "Epoch 10\n",
      "-------------------------------\n",
      "loss: 0.017170  [    0/60000]\n",
      "loss: 0.016074  [ 6400/60000]\n",
      "loss: 0.030360  [12800/60000]\n",
      "loss: 0.031834  [19200/60000]\n",
      "loss: 0.014143  [25600/60000]\n",
      "loss: 0.044632  [32000/60000]\n",
      "loss: 0.006132  [38400/60000]\n",
      "loss: 0.015116  [44800/60000]\n",
      "loss: 0.047934  [51200/60000]\n",
      "loss: 0.016273  [57600/60000]\n",
      "Test Error: \n",
      " Accuracy: 97.4%, Avg loss: 0.087884 \n",
      "\n",
      "Done!\n"
     ]
    }
   ],
   "source": [
    "epochs = 10\n",
    "for t in range(epochs):\n",
    "    print(f\"Epoch {t+1}\\n-------------------------------\")\n",
    "    train(train_dataloader, model, loss_fn, optimizer)\n",
    "    test(test_dataloader, model, loss_fn)\n",
    "print(\"Done!\")"
   ]
  },
  {
   "cell_type": "code",
   "execution_count": 10,
   "metadata": {},
   "outputs": [
    {
     "data": {
      "image/png": "[encoded data removed]",
      "text/plain": [
       "<Figure size 640x480 with 1 Axes>"
      ]
     },
     "metadata": {},
     "output_type": "display_data"
    }
   ],
   "source": [
    "img_path = './image.png'\n",
    "cur_img = Image.open(img_path)\n",
    "cur_img = cur_img.resize((28, 28))\n",
    "image = np.asarray(cur_img)\n",
    "\n",
    "try:\n",
    "  image = np.mean(image, axis=2)\n",
    "except:\n",
    "  pass\n",
    "\n",
    "image = np.abs(255-image)\n",
    "image = image.astype(np.float32)/255.\n",
    "\n",
    "plt.imshow(image, cmap='gray')\n",
    "plt.show()"
   ]
  },
  {
   "cell_type": "code",
   "execution_count": 11,
   "metadata": {},
   "outputs": [
    {
     "name": "stdout",
     "output_type": "stream",
     "text": [
      "예측 값은 3 입니다.\n"
     ]
    }
   ],
   "source": [
    "image = torch.as_tensor(image).to(device).reshape(1,1,28,28)\n",
    "model.eval()\n",
    "predict = model(image)\n",
    "print(\"예측 값은 {} 입니다.\".format(predict.argmax(1).item()))"
   ]
  },
  {
   "cell_type": "code",
   "execution_count": null,
   "metadata": {},
   "outputs": [],
   "source": []
  }
 ],
 "metadata": {
  "kernelspec": {
   "display_name": "pytorch",
   "language": "python",
   "name": "python3"
  },
  "language_info": {
   "codemirror_mode": {
    "name": "ipython",
    "version": 3
   },
   "file_extension": ".py",
   "mimetype": "text/x-python",
   "name": "python",
   "nbconvert_exporter": "python",
   "pygments_lexer": "ipython3",
   "version": "3.10.18"
  },
  "orig_nbformat": 4,
  "vscode": {
   "interpreter": {
    "hash": "f5b916051ec391ef3c1c0123575e59cad2c35863d294dd079abc5845c0e5babb"
   }
  }
 },
 "nbformat": 4,
 "nbformat_minor": 2
}
